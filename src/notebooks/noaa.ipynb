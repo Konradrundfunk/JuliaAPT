{
 "cells": [
  {
   "cell_type": "code",
   "execution_count": 4,
   "metadata": {},
   "outputs": [
    {
     "data": {
      "text/plain": [
       "Plots.PlotlyBackend()"
      ]
     },
     "metadata": {},
     "output_type": "display_data"
    }
   ],
   "source": [
    "using WAV\n",
    "using DSP\n",
    "using Images\n",
    "using FileIO\n",
    "using FFTW\n",
    "using Images\n",
    "\n",
    "\n",
    "using Plots\n",
    "#background_color_outside = RGB(239.0, 239.0, 239.0)\n",
    "\n",
    "gr(size = (800, 300), legend = true, background_color_outside=\"#EFEFEF\")\n",
    "\n",
    "file = \"/home/konrad/Downloads/APT-testfiles/176400_clear.wav\"\n",
    "backend(:plotly)\n"
   ]
  },
  {
   "cell_type": "code",
   "execution_count": 5,
   "metadata": {},
   "outputs": [
    {
     "name": "stdout",
     "output_type": "stream",
     "text": [
      "176400.0"
     ]
    }
   ],
   "source": [
    "data, sampleRate = wavread(file)\n",
    "print(sampleRate)"
   ]
  },
  {
   "cell_type": "code",
   "execution_count": 6,
   "metadata": {},
   "outputs": [
    {
     "data": {
      "text/plain": [
       "false"
      ]
     },
     "metadata": {},
     "output_type": "display_data"
    }
   ],
   "source": [
    "shift = 100\n",
    "\n",
    "gui(plot(data[1:1:40000],label=\"Amplitude\", lw=0.5 ))"
   ]
  },
  {
   "cell_type": "code",
   "execution_count": 11,
   "metadata": {},
   "outputs": [
    {
     "name": "stdout",
     "output_type": "stream",
     "text": [
      "[1.0, 1.0, 1.0, 1.0, 1.0, 1.0, 1.0, 1.0, 0.9971007415997802, 0.9743034150212103, 0.9367351298562578]\n",
      " Minimum: -1.000030518509476\n",
      " Maximum: 1.0"
     ]
    }
   ],
   "source": [
    "print(data[120:1:130])\n",
    "print(\"\\n Minimum: \" * string(minimum(data)) * \"\\n Maximum: \" * string(maximum(data)) )"
   ]
  },
  {
   "cell_type": "code",
   "execution_count": 8,
   "metadata": {},
   "outputs": [
    {
     "data": {
      "text/plain": [
       "162324480-element Vector{ComplexF64}:\n",
       " -0.0009155552842800705 - 0.07756735713949192im\n",
       " -0.0009155552842800131 - 0.058998480707792185im\n",
       "  -0.000793481246376263 - 0.05305559980401581im\n",
       " -0.0006103701895199896 - 0.04555682419583886im\n",
       " -0.0002746665852842208 - 0.04190645246023192im\n",
       "  -6.103701895170291e-5 - 0.037043035198922755im\n",
       " 0.00015259254737990847 - 0.03455243730600175im\n",
       "  0.0004577776421398631 - 0.031106642375630333im\n",
       "  0.0006408886989959127 - 0.02919265152796513im\n",
       "  0.0009155552842800992 - 0.02666173334368301im\n",
       "                        ⋮\n",
       "   -0.15161595507675413 - 0.06416654623813728im\n",
       "   -0.13629566331980378 - 0.0757461375807654im\n",
       "   -0.11990722373119286 - 0.08585100532905596im\n",
       "   -0.10309152500991844 - 0.09218520913124428im\n",
       "   -0.08587908566545625 - 0.09745503576039266im\n",
       "    -0.0688802758873259 - 0.098319597919791im\n",
       "   -0.05218665120395532 - 0.09900265092887404im\n",
       "   -0.03631702627643668 - 0.09402435262405669im\n",
       "  -0.021332438123721837 - 0.09235564606991167im"
      ]
     },
     "metadata": {},
     "output_type": "display_data"
    }
   ],
   "source": [
    "# Am Demodulation using the Hilbert Transform\n",
    "amDemod = DSP.Util.hilbert(data[1:1:end])"
   ]
  },
  {
   "cell_type": "code",
   "execution_count": 9,
   "metadata": {},
   "outputs": [],
   "source": [
    "plot(abs.(fftshift(fft(data[300:1:10^3]))))"
   ]
  },
  {
   "cell_type": "code",
   "execution_count": 14,
   "metadata": {},
   "outputs": [],
   "source": [
    "plot(abs.(fftshift(fft(amDemod[1:1:1000]))))"
   ]
  },
  {
   "cell_type": "code",
   "execution_count": 10,
   "metadata": {},
   "outputs": [
    {
     "data": {
      "text/plain": [
       "false"
      ]
     },
     "metadata": {},
     "output_type": "display_data"
    }
   ],
   "source": [
    "plot(abs.(amDemod[19000:1:30000]))\n",
    "gui(plot!(data[19000:1:30000]))"
   ]
  },
  {
   "cell_type": "code",
   "execution_count": 16,
   "metadata": {},
   "outputs": [],
   "source": [
    "plot(data[19000:1:30000])"
   ]
  },
  {
   "cell_type": "code",
   "execution_count": 12,
   "metadata": {},
   "outputs": [
    {
     "data": {
      "text/plain": [
       "7656121-element Vector{ComplexF64}:\n",
       " -0.0002614099876699581 - 0.021608707639832928im\n",
       "  0.0035594004829246403 - 0.015945296320424605im\n",
       " -0.0015196027729357008 + 0.004243380471551935im\n",
       " -0.0014675139971354282 - 0.006005470922062361im\n",
       "   0.003268527249187619 + 0.00812979300327636im\n",
       "  -0.002195184388905606 + 0.002487053005641171im\n",
       " -0.0016221423233470516 + 0.0309597716901554im\n",
       "    -0.0696384224269023 + 0.0013428015398907645im\n",
       "  0.0018225631077626397 - 0.08468832667981473im\n",
       "    0.07531613070861605 + 0.018201569173862734im\n",
       "                        ⋮\n",
       "     0.1671607727245356 + 0.17702698594825433im\n",
       "   -0.21915171259855004 + 0.11810595286062159im\n",
       "   -0.05438907581302575 - 0.24455709012983204im\n",
       "    0.24994219443159324 + 0.005054771608630069im\n",
       "     -0.055254131214425 + 0.24749973665701924im\n",
       "   -0.23986521357441684 - 0.11892642842275539im\n",
       "     0.1961094199285825 - 0.20334433736588547im\n",
       "    0.12391487137057602 + 0.22926537775865669im\n",
       "    -0.1714431267140373 + 0.03724446775833335im"
      ]
     },
     "metadata": {},
     "output_type": "display_data"
    }
   ],
   "source": [
    "# a second contains two frames so frame_len * 2\n",
    "\n",
    "frame_len = 4160\n",
    "output_data = DSP.Filters.resample(amDemod, float(frame_len * 2) / float(sampleRate))\n",
    "\n",
    "#FileIO.save(\"assets/test.png\", colorview(Gray, true))\n"
   ]
  },
  {
   "cell_type": "code",
   "execution_count": 13,
   "metadata": {},
   "outputs": [
    {
     "name": "stdout",
     "output_type": "stream",
     "text": [
      "1331200"
     ]
    },
    {
     "data": {
      "text/plain": [
       "false"
      ]
     },
     "metadata": {},
     "output_type": "display_data"
    }
   ],
   "source": [
    "img = Array(reshape(range(0,stop=1,length=10^4), 100, 100))\n",
    "\n",
    "lines = 320\n",
    "start = 400\n",
    "\n",
    "\n",
    "length_sum = ((4160) * lines)\n",
    "formated = abs.(output_data[start:1:length_sum + start - 1]) \n",
    "print(length(formated))\n",
    "\n",
    "formated = abs.(reshape(formated, 4160, lines))\n",
    "\n",
    "\n",
    "gui(heatmap(formated, transpose = true))\n"
   ]
  }
 ],
 "metadata": {
  "kernelspec": {
   "display_name": "Julia 1.7.2",
   "language": "julia",
   "name": "julia-1.7"
  },
  "language_info": {
   "file_extension": ".jl",
   "mimetype": "application/julia",
   "name": "julia",
   "version": "1.7.2"
  }
 },
 "nbformat": 4,
 "nbformat_minor": 2
}
